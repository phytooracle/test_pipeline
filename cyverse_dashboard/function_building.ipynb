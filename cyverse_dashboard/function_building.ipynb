{
 "cells": [
  {
   "cell_type": "code",
   "execution_count": 30,
   "metadata": {},
   "outputs": [],
   "source": [
    "import subprocess\n",
    "\n",
    "public_prefix = \"https://data.cyverse.org/dav-anon\"\n",
    "\n",
    "de_path = \"/iplant/home/shared/phytooracle/season_10_lettuce_yr_2020/level_1/scanner3DTop/test_outputs/\"\n",
    "\n",
    "\n",
    "\n",
    "# de_path = \"/iplant/home/travis_simmons/season_11_clustering/\"\n",
    "\n",
    "command = ['ils', de_path ]\n",
    "\n",
    "lines = str(subprocess.check_output(command))\n",
    "\n"
   ]
  },
  {
   "cell_type": "code",
   "execution_count": 31,
   "metadata": {},
   "outputs": [],
   "source": [
    "no_new_line = lines.replace('\\\\n', '')"
   ]
  },
  {
   "cell_type": "code",
   "execution_count": 32,
   "metadata": {},
   "outputs": [
    {
     "data": {
      "text/plain": [
       "\"b'/iplant/home/shared/phytooracle/season_10_lettuce_yr_2020/level_1/scanner3DTop/test_outputs:  C- /iplant/home/shared/phytooracle/season_10_lettuce_yr_2020/level_1/scanner3DTop/test_outputs/2020-01-22  C- /iplant/home/shared/phytooracle/season_10_lettuce_yr_2020/level_1/scanner3DTop/test_outputs/2020-02-16  C- /iplant/home/shared/phytooracle/season_10_lettuce_yr_2020/level_1/scanner3DTop/test_outputs/2020-03-02  C- /iplant/home/shared/phytooracle/season_10_lettuce_yr_2020/level_1/scanner3DTop/test_outputs/missing_segmentation_pointclouds'\""
      ]
     },
     "execution_count": 32,
     "metadata": {},
     "output_type": "execute_result"
    }
   ],
   "source": [
    "no_new_line"
   ]
  },
  {
   "cell_type": "code",
   "execution_count": 33,
   "metadata": {},
   "outputs": [],
   "source": [
    "separated = no_new_line.split('  ')"
   ]
  },
  {
   "cell_type": "code",
   "execution_count": 34,
   "metadata": {},
   "outputs": [],
   "source": [
    "output_filenamnes = separated[1:]"
   ]
  },
  {
   "cell_type": "code",
   "execution_count": 35,
   "metadata": {},
   "outputs": [
    {
     "data": {
      "text/plain": [
       "['C- /iplant/home/shared/phytooracle/season_10_lettuce_yr_2020/level_1/scanner3DTop/test_outputs/2020-01-22',\n",
       " 'C- /iplant/home/shared/phytooracle/season_10_lettuce_yr_2020/level_1/scanner3DTop/test_outputs/2020-02-16',\n",
       " 'C- /iplant/home/shared/phytooracle/season_10_lettuce_yr_2020/level_1/scanner3DTop/test_outputs/2020-03-02',\n",
       " \"C- /iplant/home/shared/phytooracle/season_10_lettuce_yr_2020/level_1/scanner3DTop/test_outputs/missing_segmentation_pointclouds'\"]"
      ]
     },
     "execution_count": 35,
     "metadata": {},
     "output_type": "execute_result"
    }
   ],
   "source": [
    "output_filenamnes"
   ]
  },
  {
   "cell_type": "code",
   "execution_count": null,
   "metadata": {},
   "outputs": [],
   "source": [
    "# Need to redo all the functions to find the plant paths"
   ]
  }
 ],
 "metadata": {
  "interpreter": {
   "hash": "c348afdcda8c9ba39f454445c0645c776624ec52ad2cbfdee6cc56cf551be063"
  },
  "kernelspec": {
   "display_name": "Python 3.7.6 64-bit ('base': conda)",
   "language": "python",
   "name": "python3"
  },
  "language_info": {
   "codemirror_mode": {
    "name": "ipython",
    "version": 3
   },
   "file_extension": ".py",
   "mimetype": "text/x-python",
   "name": "python",
   "nbconvert_exporter": "python",
   "pygments_lexer": "ipython3",
   "version": "3.7.6"
  },
  "orig_nbformat": 4
 },
 "nbformat": 4,
 "nbformat_minor": 2
}
