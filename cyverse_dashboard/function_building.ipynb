{
 "cells": [
  {
   "cell_type": "code",
   "execution_count": 19,
   "metadata": {},
   "outputs": [],
   "source": [
    "import subprocess\n",
    "\n",
    "public_prefix = \"https://data.cyverse.org/dav-anon\"\n",
    "\n",
    "# de_path = \"/iplant/home/shared/phytooracle/season_10_lettuce_yr_2020/level_1/scanner3DTop/test_outputs/\"\n",
    "\n",
    "de_path = \"/iplant/home/shared/phytooracle/season_10_lettuce_yr_2020/level_2/scanner3DTop/\"\n",
    "\n",
    "\n",
    "\n",
    "# de_path = \"/iplant/home/travis_simmons/season_11_clustering/\"\n",
    "\n",
    "command = ['ils', de_path ]\n",
    "\n",
    "lines = str(subprocess.check_output(command))\n",
    "\n"
   ]
  },
  {
   "cell_type": "code",
   "execution_count": 20,
   "metadata": {},
   "outputs": [],
   "source": [
    "no_new_line = lines.replace('\\\\n', '')"
   ]
  },
  {
   "cell_type": "code",
   "execution_count": 21,
   "metadata": {},
   "outputs": [
    {
     "data": {
      "text/plain": [
       "\"b'/iplant/home/shared/phytooracle/season_10_lettuce_yr_2020/level_2/scanner3DTop:  C- /iplant/home/shared/phytooracle/season_10_lettuce_yr_2020/level_2/scanner3DTop/2020-01-22  C- /iplant/home/shared/phytooracle/season_10_lettuce_yr_2020/level_2/scanner3DTop/2020-02-28  C- /iplant/home/shared/phytooracle/season_10_lettuce_yr_2020/level_2/scanner3DTop/2020-03-02  C- /iplant/home/shared/phytooracle/season_10_lettuce_yr_2020/level_2/scanner3DTop/deprecated'\""
      ]
     },
     "execution_count": 21,
     "metadata": {},
     "output_type": "execute_result"
    }
   ],
   "source": [
    "no_new_line"
   ]
  },
  {
   "cell_type": "code",
   "execution_count": 22,
   "metadata": {},
   "outputs": [],
   "source": [
    "separated = no_new_line.split('  ')"
   ]
  },
  {
   "cell_type": "code",
   "execution_count": 23,
   "metadata": {},
   "outputs": [],
   "source": [
    "output_filenamnes = separated[1:]"
   ]
  },
  {
   "cell_type": "code",
   "execution_count": 24,
   "metadata": {},
   "outputs": [
    {
     "data": {
      "text/plain": [
       "['C- /iplant/home/shared/phytooracle/season_10_lettuce_yr_2020/level_2/scanner3DTop/2020-01-22',\n",
       " 'C- /iplant/home/shared/phytooracle/season_10_lettuce_yr_2020/level_2/scanner3DTop/2020-02-28',\n",
       " 'C- /iplant/home/shared/phytooracle/season_10_lettuce_yr_2020/level_2/scanner3DTop/2020-03-02',\n",
       " \"C- /iplant/home/shared/phytooracle/season_10_lettuce_yr_2020/level_2/scanner3DTop/deprecated'\"]"
      ]
     },
     "execution_count": 24,
     "metadata": {},
     "output_type": "execute_result"
    }
   ],
   "source": [
    "output_filenamnes"
   ]
  },
  {
   "cell_type": "code",
   "execution_count": 25,
   "metadata": {},
   "outputs": [],
   "source": [
    "# Need to redo all the functions to find the plant paths\n",
    "\n",
    "\n",
    "def find_available_date_paths(de_path):\n",
    "    # de_path = \"/iplant/home/travis_simmons/season_11_clustering/\"\n",
    "\n",
    "    command = ['ils', de_path ]\n",
    "\n",
    "    lines = str(subprocess.check_output(command))\n",
    "    no_new_line = lines.replace('\\\\n', '')\n",
    "\n",
    "    separated = no_new_line.split('  ')[1:]\n",
    "    \n",
    "    print(separated)\n",
    "    return separated\n",
    "\n",
    "    "
   ]
  },
  {
   "cell_type": "code",
   "execution_count": 26,
   "metadata": {},
   "outputs": [
    {
     "name": "stdout",
     "output_type": "stream",
     "text": [
      "['C- /iplant/home/shared/phytooracle/season_10_lettuce_yr_2020/level_2/scanner3DTop/2020-01-22', 'C- /iplant/home/shared/phytooracle/season_10_lettuce_yr_2020/level_2/scanner3DTop/2020-02-28', 'C- /iplant/home/shared/phytooracle/season_10_lettuce_yr_2020/level_2/scanner3DTop/2020-03-02', \"C- /iplant/home/shared/phytooracle/season_10_lettuce_yr_2020/level_2/scanner3DTop/deprecated'\"]\n"
     ]
    }
   ],
   "source": [
    "date_paths = find_available_date_paths(de_path)"
   ]
  },
  {
   "cell_type": "code",
   "execution_count": 27,
   "metadata": {},
   "outputs": [],
   "source": [
    "# def find_tags_paths(date_paths):\n",
    "#     tags_paths = []\n",
    "#     for i in date_paths:\n",
    "#         try:\n",
    "\n",
    "#             i = i.split(' ')[-1]\n",
    "#             command = ['ils', i + '/' ]\n",
    "\n",
    "#             lines = str(subprocess.check_output(command))\n",
    "#             no_new_line = lines.replace('\\\\n', '')\n",
    "\n",
    "#             separated = no_new_line.split('  ')[1:]\n",
    "            \n",
    "#             tags_paths += separated\n",
    "#             print(separated)\n",
    "\n",
    "#         except:\n",
    "#             print('No tags found in:', i)\n",
    "\n",
    "#     print(tags_paths)\n",
    "#     return tags_paths\n",
    "        "
   ]
  },
  {
   "cell_type": "code",
   "execution_count": 28,
   "metadata": {},
   "outputs": [],
   "source": [
    "# tags_paths = find_tags_paths(date_paths)"
   ]
  },
  {
   "cell_type": "code",
   "execution_count": 35,
   "metadata": {},
   "outputs": [],
   "source": [
    "def find_plant_paths(date_paths):\n",
    "        plant_paths = []\n",
    "        for i in tags_paths:\n",
    "            \n",
    "            try:\n",
    "                i = i.split(' ')[-1]\n",
    "                command = ['ils', i + '/plant_reports' ]\n",
    "\n",
    "                lines = str(subprocess.check_output(command))\n",
    "                no_new_line = lines.replace('\\\\n', '')\n",
    "\n",
    "                separated = no_new_line.split('  ')[1:]\n",
    "                plant_paths += separated\n",
    "\n",
    "                \n",
    "                print(i, ' contains ' , len(separated), ' plants')\n",
    "\n",
    "            except:\n",
    "                print('No plants found in:' ,i )\n",
    "\n",
    "        print(len(plant_paths), 'plants found.')\n",
    "                \n",
    "        return plant_paths\n",
    "    "
   ]
  },
  {
   "cell_type": "code",
   "execution_count": 36,
   "metadata": {},
   "outputs": [
    {
     "name": "stdout",
     "output_type": "stream",
     "text": [
      "/iplant/home/shared/phytooracle/season_10_lettuce_yr_2020/level_2/scanner3DTop/2020-01-22/individual_plants_out  contains  3416  plants\n",
      "No plants found in: /iplant/home/shared/phytooracle/season_10_lettuce_yr_2020/level_2/scanner3DTop/2020-01-22/logs'\n",
      "/iplant/home/shared/phytooracle/season_10_lettuce_yr_2020/level_2/scanner3DTop/2020-02-28/individual_plants_out  contains  2850  plants\n",
      "No plants found in: /iplant/home/shared/phytooracle/season_10_lettuce_yr_2020/level_2/scanner3DTop/2020-02-28/logs'\n",
      "/iplant/home/shared/phytooracle/season_10_lettuce_yr_2020/level_2/scanner3DTop/2020-03-02/individual_plants_out  contains  3570  plants\n",
      "No plants found in: /iplant/home/shared/phytooracle/season_10_lettuce_yr_2020/level_2/scanner3DTop/2020-03-02/logs'\n",
      "9836 plants found.\n"
     ]
    }
   ],
   "source": [
    "plant_paths = find_plant_paths(date_paths)"
   ]
  },
  {
   "cell_type": "code",
   "execution_count": 37,
   "metadata": {},
   "outputs": [
    {
     "data": {
      "text/plain": [
       "'C- /iplant/home/shared/phytooracle/season_10_lettuce_yr_2020/level_2/scanner3DTop/2020-01-22/individual_plants_out/plant_reports/Aido_135'"
      ]
     },
     "execution_count": 37,
     "metadata": {},
     "output_type": "execute_result"
    }
   ],
   "source": [
    "plant_paths[1]"
   ]
  },
  {
   "cell_type": "code",
   "execution_count": 38,
   "metadata": {},
   "outputs": [],
   "source": [
    "def generate_de_paths(plant_paths):\n",
    "    public_prefix = \"https://data.cyverse.org/dav-anon\"\n",
    "\n",
    "    de_plant_paths = [public_prefix + i.replace('C- ', '') for i in plant_paths]\n",
    "\n",
    "    return de_plant_paths\n",
    "\n",
    "\n"
   ]
  },
  {
   "cell_type": "code",
   "execution_count": 39,
   "metadata": {},
   "outputs": [
    {
     "data": {
      "text/plain": [
       "'https://data.cyverse.org/dav-anon/iplant/home/shared/phytooracle/season_10_lettuce_yr_2020/level_2/scanner3DTop/2020-01-22/individual_plants_out/plant_reports/Aido_12'"
      ]
     },
     "execution_count": 39,
     "metadata": {},
     "output_type": "execute_result"
    }
   ],
   "source": [
    "de_plant_paths = generate_de_paths(plant_paths); de_plant_paths[0]"
   ]
  },
  {
   "cell_type": "code",
   "execution_count": null,
   "metadata": {},
   "outputs": [],
   "source": [
    "def make_html_of_all_plants(de_plant_paths):\n",
    "    \n"
   ]
  }
 ],
 "metadata": {
  "interpreter": {
   "hash": "c348afdcda8c9ba39f454445c0645c776624ec52ad2cbfdee6cc56cf551be063"
  },
  "kernelspec": {
   "display_name": "Python 3.7.6 64-bit ('base': conda)",
   "language": "python",
   "name": "python3"
  },
  "language_info": {
   "codemirror_mode": {
    "name": "ipython",
    "version": 3
   },
   "file_extension": ".py",
   "mimetype": "text/x-python",
   "name": "python",
   "nbconvert_exporter": "python",
   "pygments_lexer": "ipython3",
   "version": "3.7.6"
  },
  "orig_nbformat": 4
 },
 "nbformat": 4,
 "nbformat_minor": 2
}
