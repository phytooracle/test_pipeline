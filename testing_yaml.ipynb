{
 "cells": [
  {
   "cell_type": "code",
   "execution_count": 1,
   "metadata": {},
   "outputs": [],
   "source": [
    "import os\n",
    "import sys \n",
    "import subprocess as sp\n",
    "import yaml\n",
    "import glob"
   ]
  },
  {
   "cell_type": "code",
   "execution_count": 2,
   "metadata": {},
   "outputs": [],
   "source": [
    "def build_containers(yaml_dict):\n",
    "    \n",
    "    simg_name = yaml_dict['module_1']['container']['simg_name']\n",
    "    dockerhub_path = yaml_dict['module_1']['container']['dockerhub_path']\n",
    "\n",
    "    if not os.path.isfile(simg_name):\n",
    "        print(f'Building {simg_name}.')\n",
    "        sp.call(f'singularity build {simg_name} {dockerhub_path}', shell=True)\n",
    "\n",
    "def download_raw_data(irods_path):\n",
    "    hpc = None\n",
    "    file_name = os.path.basename(irods_path)\n",
    "    dir_name = file_name.split('.')[0]\n",
    "\n",
    "    if not os.path.isdir(dir_name):\n",
    "        cmd1 = f'iget -fKPVT {irods_path}'\n",
    "        print(cmd1)\n",
    "        cwd = os.getcwd()\n",
    "\n",
    "        if '.gz' in file_name: \n",
    "            cmd2 = f'tar -xzvf {file_name}'\n",
    "            cmd3 = f'rm {file_name}'\n",
    "\n",
    "        else: \n",
    "            cmd2 = f'tar -xvf {file_name}'\n",
    "            cmd3 = f'rm {file_name}'\n",
    "        \n",
    "        if hpc: \n",
    "            print('>>>>>>Using data transfer node.')\n",
    "            sp.call(f\"ssh filexfer 'cd {cwd}' '&& {cmd1}' '&& {cmd2}' '&& {cmd3}' '&& exit'\", shell=True)\n",
    "            \n",
    "        else: \n",
    "            sp.call(cmd1, shell=True)\n",
    "            sp.call(cmd2, shell=True)\n",
    "            sp.call(cmd3, shell=True)\n",
    "\n",
    "    return dir_name\n",
    "\n",
    "def build_containers(dictionary):\n",
    "    for k, v in dictionary['modules'].items():\n",
    "        container = v['container']\n",
    "        if not os.path.isfile(container[\"simg_name\"]):\n",
    "            print(f'Building {container[\"simg_name\"]}.')\n",
    "            sp.call(f'singularity build {container[\"simg_name\"]} {container[\"dockerhub_path\"]}', shell=True)\n",
    "\n",
    "def get_model_files(model_path):\n",
    "    \n",
    "    if not os.path.isfile(os.path.basename(model_path)):\n",
    "        cmd1 = f'iget -fKPVT {model_path}'\n",
    "        sp.call(cmd1, shell=True)\n",
    "    return os.path.basename(model_path)\n",
    "    "
   ]
  },
  {
   "cell_type": "code",
   "execution_count": 6,
   "metadata": {},
   "outputs": [
    {
     "name": "stdout",
     "output_type": "stream",
     "text": [
      "singularity run -B $(pwd):/mnt --pwd /mnt dgcnn_single_plant_soil_segmentation.simg -i 2020-01-22_test_set/Iceberg_114 --model_path dgcnn_3d_model.pth\n",
      "singularity run -B $(pwd):/mnt --pwd /mnt 3d_neighbor_removal.simg -i 2020-01-22_test_set/Iceberg_114 -e 0.03\n",
      "singularity run -B $(pwd):/mnt --pwd /mnt 3d_entropy_features.simg -o combined_pointclouds/2020-01-22_test_set/Iceberg_114 -f 2020-01-22_test_set/Iceberg_114_hull_volumes -p individual_plants_out/combined_pointclouds/2020-01-22_test_set/Iceberg_114/*_plant_clustered.ply\n"
     ]
    }
   ],
   "source": [
    "date = '2020-01-22'\n",
    "with open(\"./config.yaml\", 'r') as stream:\n",
    "    try:\n",
    "        dictionary = yaml.safe_load(stream)\n",
    "    except yaml.YAMLError as exc:\n",
    "        print(exc)\n",
    "\n",
    "    cyverse_path = os.path.join(dictionary['paths']['cyverse']['input']['basename'], \n",
    "                                date,\n",
    "                                dictionary['paths']['cyverse']['input']['subdir'], \n",
    "                                ''.join([str(date), str(dictionary['paths']['cyverse']['input']['suffix'])]))\n",
    "\n",
    "    dir_name = download_raw_data(cyverse_path)\n",
    "    build_containers(dictionary)\n",
    "    model_name = get_model_files('/iplant/home/shared/phytooracle/season_10_lettuce_yr_2020/level_0/necessary_files/dgcnn_3d_model.pth')\n",
    "\n",
    "\n",
    "    for plant in glob.glob(os.path.join(dir_name, '*'))[:1]:\n",
    " \n",
    "        for k, v in dictionary['modules'].items():\n",
    "            command = v['command'].replace('${PLANT_NAME}', plant).replace('${MODEL_PATH}', model_name)\n",
    "            print(command)\n",
    "            sp.call(command, shell=True)"
   ]
  },
  {
   "cell_type": "code",
   "execution_count": 122,
   "metadata": {},
   "outputs": [],
   "source": [
    "\n",
    "    \n",
    "    \n",
    "\n"
   ]
  },
  {
   "cell_type": "code",
   "execution_count": null,
   "metadata": {},
   "outputs": [],
   "source": []
  }
 ],
 "metadata": {
  "interpreter": {
   "hash": "31f2aee4e71d21fbe5cf8b01ff0e069b9275f58929596ceb00d14d90e3e16cd6"
  },
  "kernelspec": {
   "display_name": "Python 3.8.10 64-bit",
   "language": "python",
   "name": "python3"
  },
  "language_info": {
   "codemirror_mode": {
    "name": "ipython",
    "version": 3
   },
   "file_extension": ".py",
   "mimetype": "text/x-python",
   "name": "python",
   "nbconvert_exporter": "python",
   "pygments_lexer": "ipython3",
   "version": "3.8.10"
  },
  "orig_nbformat": 4
 },
 "nbformat": 4,
 "nbformat_minor": 2
}
